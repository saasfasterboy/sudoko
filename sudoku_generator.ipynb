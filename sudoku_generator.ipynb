{
  "nbformat": 4,
  "nbformat_minor": 0,
  "metadata": {
    "colab": {
      "provenance": []
    },
    "kernelspec": {
      "name": "python3",
      "display_name": "Python 3"
    },
    "language_info": {
      "name": "python"
    }
  },
  "cells": [
    {
      "cell_type": "code",
      "source": [
        "import random\n",
        "\n",
        "class SudokuGenerator:\n",
        "    def __init__(self):\n",
        "        self.board = [[0] * 9 for _ in range(9)]\n",
        "\n",
        "    def fill_board(self):\n",
        "        self._fill_diagonal_boxes()\n",
        "        self._fill_remaining(0, 0)\n",
        "\n",
        "    def _fill_diagonal_boxes(self):\n",
        "        for i in range(0, 9, 3):\n",
        "            self._fill_box(i, i)\n",
        "\n",
        "    def _fill_box(self, row, col):\n",
        "        numbers = list(range(1, 10))\n",
        "        random.shuffle(numbers)\n",
        "        for i in range(3):\n",
        "            for j in range(3):\n",
        "                self.board[row + i][col + j] = numbers[i * 3 + j]\n",
        "\n",
        "    def _fill_remaining(self, row, col):\n",
        "        if row == 8 and col == 9:\n",
        "            return True\n",
        "        if col == 9:\n",
        "            row += 1\n",
        "            col = 0\n",
        "        if self.board[row][col] != 0:\n",
        "            return self._fill_remaining(row, col + 1)\n",
        "\n",
        "        for num in range(1, 10):\n",
        "            if self._is_safe(row, col, num):\n",
        "                self.board[row][col] = num\n",
        "                if self._fill_remaining(row, col + 1):\n",
        "                    return True\n",
        "                self.board[row][col] = 0\n",
        "        return False\n",
        "\n",
        "    def _is_safe(self, row, col, num):\n",
        "        for x in range(9):\n",
        "            if self.board[row][x] == num or self.board[x][col] == num:\n",
        "                return False\n",
        "        box_row = row - row % 3\n",
        "        box_col = col - col % 3\n",
        "        for i in range(3):\n",
        "            for j in range(3):\n",
        "                if self.board[i + box_row][j + box_col] == num:\n",
        "                    return False\n",
        "        return True\n",
        "\n",
        "    def remove_numbers(self, difficulty='hard'):\n",
        "        if difficulty == 'hard':\n",
        "            remove_count = 60  # Number of cells to remove for a hard puzzle\n",
        "        elif difficulty == 'extreme':\n",
        "            remove_count = 70  # Increase for an extreme puzzle\n",
        "        else:\n",
        "            raise ValueError(\"Difficulty level not recognized\")\n",
        "\n",
        "        for _ in range(remove_count):\n",
        "            row = random.randint(0, 8)\n",
        "            col = random.randint(0, 8)\n",
        "            while self.board[row][col] == 0:\n",
        "                row = random.randint(0, 8)\n",
        "                col = random.randint(0, 8)\n",
        "            self.board[row][col] = 0\n",
        "\n",
        "    def get_input_board(self):\n",
        "        # Convert the board to the desired input format\n",
        "        input_board = []\n",
        "        for row in self.board:\n",
        "            input_board.append(['.' if num == 0 else str(num) for num in row])\n",
        "        return input_board\n",
        "\n",
        "# Generate an extreme Sudoku puzzle\n",
        "sudoku = SudokuGenerator()\n",
        "sudoku.fill_board()\n",
        "sudoku.remove_numbers(difficulty='extreme')\n",
        "\n",
        "# Get the input board\n",
        "input_board = sudoku.get_input_board()\n",
        "\n",
        "# Print the input board\n",
        "for row in input_board:\n",
        "    print(' '.join(row))\n"
      ],
      "metadata": {
        "colab": {
          "base_uri": "https://localhost:8080/"
        },
        "id": "OVhrnax_4mTl",
        "outputId": "539b005f-a302-404d-d6f7-3f15de9b81e3"
      },
      "execution_count": null,
      "outputs": [
        {
          "output_type": "stream",
          "name": "stdout",
          "text": [
            ". . . . . . . 9 .\n",
            ". . . 5 7 . . 2 .\n",
            ". . . . . . . 5 .\n",
            ". . . . . . . . .\n",
            ". 9 . 2 . 8 . . .\n",
            ". . . . . . . . .\n",
            ". . 5 . . . . . .\n",
            ". . . . . . . . .\n",
            ". 6 . . . 3 . . .\n"
          ]
        }
      ]
    }
  ]
}