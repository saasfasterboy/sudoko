{
  "nbformat": 4,
  "nbformat_minor": 0,
  "metadata": {
    "colab": {
      "provenance": []
    },
    "kernelspec": {
      "name": "python3",
      "display_name": "Python 3"
    },
    "language_info": {
      "name": "python"
    }
  },
  "cells": [
    {
      "cell_type": "code",
      "execution_count": 9,
      "metadata": {
        "colab": {
          "base_uri": "https://localhost:8080/"
        },
        "id": "bMK0JPh7qkpN",
        "outputId": "adbe6631-4bbb-42b1-be36-4671a72ed0f2"
      },
      "outputs": [
        {
          "output_type": "stream",
          "name": "stdout",
          "text": [
            "2 9 4 3 6 8 1 5 7\n",
            "5 6 8 4 1 7 3 2 9\n",
            "7 3 1 5 9 2 4 8 6\n",
            "8 2 7 6 4 3 9 1 5\n",
            "4 5 3 9 8 1 6 7 2\n",
            "6 1 9 2 7 5 8 4 3\n",
            "9 7 6 1 2 4 5 3 8\n",
            "1 8 5 7 3 6 2 9 4\n",
            "3 4 2 8 5 9 7 6 1\n"
          ]
        }
      ],
      "source": [
        "from typing import List\n",
        "\n",
        "class Solution:\n",
        "    def solveSudoku(self, board: List[List[str]]) -> None:\n",
        "        def is_valid(board, row, col, num):\n",
        "            # Check if num is in the current row\n",
        "            for j in range(9):\n",
        "                if board[row][j] == num:\n",
        "                    return False\n",
        "\n",
        "            # Check if num is in the current column\n",
        "            for i in range(9):\n",
        "                if board[i][col] == num:\n",
        "                    return False\n",
        "\n",
        "            # Check if num is in the 3x3 box\n",
        "            start_row, start_col = 3 * (row // 3), 3 * (col // 3)\n",
        "            for i in range(3):\n",
        "                for j in range(3):\n",
        "                    if board[start_row + i][start_col + j] == num:\n",
        "                        return False\n",
        "\n",
        "            return True\n",
        "\n",
        "        def solve():\n",
        "            for i in range(9):\n",
        "                for j in range(9):\n",
        "                    if board[i][j] == '.':\n",
        "                        for num in '123456789':\n",
        "                            if is_valid(board, i, j, num):\n",
        "                                board[i][j] = num\n",
        "                                if solve():\n",
        "                                    return True\n",
        "                                board[i][j] = '.'  # Backtrack\n",
        "                        return False\n",
        "            return True\n",
        "\n",
        "        solve()\n",
        "\n",
        "# example: Input board\n",
        "input_board = [\n",
        "    ['2', '.', '4', '3', '6', '8', '.', '5', '.'],\n",
        "    ['.', '.', '.', '4', '1', '7', '.', '.', '.'],\n",
        "    ['.', '3', '1', '5', '9', '2', '.', '.', '.'],\n",
        "    ['.', '2', '.', '.', '.', '.', '.', '.', '5'],\n",
        "    ['4', '5', '3', '9', '8', '1', '6', '7', '2'],\n",
        "    ['6', '.', '.', '2', '.', '5', '.', '4', '.'],\n",
        "    ['.', '.', '.', '1', '2', '.', '5', '3', '.'],\n",
        "    ['.', '.', '.', '7', '.', '6', '.', '.', '.'],\n",
        "    ['.', '.', '.', '8', '5', '.', '7', '.', '1']\n",
        "]\n",
        "\n",
        "# Solve the Sudoku puzzle\n",
        "solver = Solution()\n",
        "solver.solveSudoku(input_board)\n",
        "\n",
        "# Print the solved board\n",
        "for row in input_board:\n",
        "    print(\" \".join(row))\n"
      ]
    }
  ]
}